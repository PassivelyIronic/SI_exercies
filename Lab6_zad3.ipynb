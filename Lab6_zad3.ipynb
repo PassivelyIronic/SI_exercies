{
  "nbformat": 4,
  "nbformat_minor": 0,
  "metadata": {
    "colab": {
      "provenance": []
    },
    "kernelspec": {
      "name": "python3",
      "display_name": "Python 3"
    },
    "language_info": {
      "name": "python"
    }
  },
  "cells": [
    {
      "cell_type": "code",
      "source": [
        "!pip install scikit-learn"
      ],
      "metadata": {
        "id": "dJpTKB4GFZuo",
        "colab": {
          "base_uri": "https://localhost:8080/"
        },
        "outputId": "3dd3ab4d-8fa7-4e9e-ac69-c20794796326"
      },
      "execution_count": null,
      "outputs": [
        {
          "output_type": "stream",
          "name": "stdout",
          "text": [
            "Requirement already satisfied: scikit-learn in /usr/local/lib/python3.10/dist-packages (1.2.2)\n",
            "Requirement already satisfied: numpy>=1.17.3 in /usr/local/lib/python3.10/dist-packages (from scikit-learn) (1.23.5)\n",
            "Requirement already satisfied: scipy>=1.3.2 in /usr/local/lib/python3.10/dist-packages (from scikit-learn) (1.11.4)\n",
            "Requirement already satisfied: joblib>=1.1.1 in /usr/local/lib/python3.10/dist-packages (from scikit-learn) (1.3.2)\n",
            "Requirement already satisfied: threadpoolctl>=2.0.0 in /usr/local/lib/python3.10/dist-packages (from scikit-learn) (3.2.0)\n"
          ]
        }
      ]
    },
    {
      "cell_type": "code",
      "execution_count": null,
      "metadata": {
        "id": "8DCaUmSDFGX0"
      },
      "outputs": [],
      "source": [
        "from sklearn.model_selection import train_test_split\n",
        "from sklearn.datasets import load_iris\n",
        "import numpy as np\n",
        "from keras.utils import to_categorical"
      ]
    },
    {
      "cell_type": "code",
      "source": [
        "#Load data, the returnX_y argument is set to True to return data and labels\n",
        "(x, y) = load_iris(return_X_y=True)"
      ],
      "metadata": {
        "id": "GsgFnSndFfE1"
      },
      "execution_count": null,
      "outputs": []
    },
    {
      "cell_type": "code",
      "source": [
        "x_train, x_test, y_train, y_test = train_test_split(x,y)"
      ],
      "metadata": {
        "id": "UF3JfDBhFiWa"
      },
      "execution_count": null,
      "outputs": []
    },
    {
      "cell_type": "code",
      "source": [
        "#To have same shape like input data\n",
        "y_train = to_categorical(y_train, num_classes=3)\n",
        "y_test = to_categorical(y_test, num_classes=3)"
      ],
      "metadata": {
        "id": "9Xhgt983HadW"
      },
      "execution_count": null,
      "outputs": []
    },
    {
      "cell_type": "code",
      "source": [
        "from keras.optimizers import Adam\n",
        "from keras.layers import Dense, Dropout, BatchNormalization\n",
        "from keras.models import Sequential\n",
        "from keras.losses import CategoricalCrossentropy"
      ],
      "metadata": {
        "id": "jE_ASxozFti4"
      },
      "execution_count": null,
      "outputs": []
    },
    {
      "cell_type": "code",
      "source": [
        "model = Sequential([\n",
        "    Dense(16, activation='relu',input_dim=4),\n",
        "    Dense(32, activation='relu'),\n",
        "    Dense(64, activation='relu'),\n",
        "    Dense(3, activation='softmax')\n",
        "])"
      ],
      "metadata": {
        "id": "o-Io8ebjGHzD"
      },
      "execution_count": null,
      "outputs": []
    },
    {
      "cell_type": "code",
      "source": [
        "model.compile(optimizer=Adam(learning_rate=1e-3),\n",
        "              loss=CategoricalCrossentropy(),\n",
        "              metrics=['accuracy'])"
      ],
      "metadata": {
        "id": "XSml77xaGjaQ"
      },
      "execution_count": null,
      "outputs": []
    },
    {
      "cell_type": "code",
      "source": [
        "history = model.fit(x_train, y_train, epochs=10, batch_size=8, verbose=1)"
      ],
      "metadata": {
        "colab": {
          "base_uri": "https://localhost:8080/"
        },
        "id": "45pT4uFnHKmh",
        "outputId": "9d5c545c-0b3b-4cfa-8d23-47c678a359a0"
      },
      "execution_count": null,
      "outputs": [
        {
          "output_type": "stream",
          "name": "stdout",
          "text": [
            "Epoch 1/10\n",
            "14/14 [==============================] - 2s 4ms/step - loss: 1.0538 - accuracy: 0.3214 \n",
            "Epoch 2/10\n",
            "14/14 [==============================] - 0s 3ms/step - loss: 0.9556 - accuracy: 0.6786\n",
            "Epoch 3/10\n",
            "14/14 [==============================] - 0s 2ms/step - loss: 0.8719 - accuracy: 0.8839\n",
            "Epoch 4/10\n",
            "14/14 [==============================] - 0s 2ms/step - loss: 0.7529 - accuracy: 0.8929\n",
            "Epoch 5/10\n",
            "14/14 [==============================] - 0s 2ms/step - loss: 0.6419 - accuracy: 0.8929\n",
            "Epoch 6/10\n",
            "14/14 [==============================] - 0s 2ms/step - loss: 0.5320 - accuracy: 0.9464\n",
            "Epoch 7/10\n",
            "14/14 [==============================] - 0s 2ms/step - loss: 0.4314 - accuracy: 0.9643\n",
            "Epoch 8/10\n",
            "14/14 [==============================] - 0s 2ms/step - loss: 0.3499 - accuracy: 0.9821\n",
            "Epoch 9/10\n",
            "14/14 [==============================] - 0s 2ms/step - loss: 0.2876 - accuracy: 0.9732\n",
            "Epoch 10/10\n",
            "14/14 [==============================] - 0s 2ms/step - loss: 0.2381 - accuracy: 0.9643\n"
          ]
        }
      ]
    },
    {
      "cell_type": "code",
      "source": [
        "model.evaluate(x_test, y_test, batch_size=8)"
      ],
      "metadata": {
        "colab": {
          "base_uri": "https://localhost:8080/"
        },
        "id": "Uy8Q1_6sI6z-",
        "outputId": "a172797a-8f9d-49d1-d30c-a590882b6909"
      },
      "execution_count": null,
      "outputs": [
        {
          "output_type": "stream",
          "name": "stdout",
          "text": [
            "5/5 [==============================] - 0s 3ms/step - loss: 0.2256 - accuracy: 0.9737\n"
          ]
        },
        {
          "output_type": "execute_result",
          "data": {
            "text/plain": [
              "[0.2256123572587967, 0.9736841917037964]"
            ]
          },
          "metadata": {},
          "execution_count": 10
        }
      ]
    },
    {
      "cell_type": "code",
      "source": [
        "from sklearn.metrics import accuracy_score, precision_score, confusion_matrix, recall_score"
      ],
      "metadata": {
        "id": "5MBtTSi7JCpN"
      },
      "execution_count": null,
      "outputs": []
    },
    {
      "cell_type": "code",
      "source": [
        "y_pred = model.predict(x_train)\n",
        "y_pred_rounded = [np.argmax(pred) for pred in y_pred]\n",
        "\n",
        "accuracy = accuracy_score(np.argmax(y_train, axis=1), y_pred_rounded)\n",
        "precision = precision_score(np.argmax(y_train, axis=1),\n",
        "y_pred_rounded, average='macro')\n",
        "recall = recall_score(np.argmax(y_train, axis=1), y_pred_rounded,\n",
        "average='macro')\n",
        "conf_matrix = confusion_matrix(np.argmax(y_train, axis=1),\n",
        "y_pred_rounded)"
      ],
      "metadata": {
        "colab": {
          "base_uri": "https://localhost:8080/"
        },
        "id": "8GczGN7lJN4-",
        "outputId": "6105eeae-168d-4c37-ec25-f03d65736fb7"
      },
      "execution_count": null,
      "outputs": [
        {
          "output_type": "stream",
          "name": "stdout",
          "text": [
            "4/4 [==============================] - 0s 3ms/step\n"
          ]
        }
      ]
    },
    {
      "cell_type": "code",
      "source": [
        "print(f'Accuracy: {round(accuracy,2)}\\nPrecision:{round(precision,2)}\\nRecall: {round(recall,2)}')\n",
        "print(f'Confusion matrix:\\n{conf_matrix}')"
      ],
      "metadata": {
        "colab": {
          "base_uri": "https://localhost:8080/"
        },
        "id": "SQwMTtgeMrxT",
        "outputId": "8030c2e9-a337-43dc-a089-5d1a1430cd4e"
      },
      "execution_count": null,
      "outputs": [
        {
          "output_type": "stream",
          "name": "stdout",
          "text": [
            "Accuracy: 0.98\n",
            "Precision:0.98\n",
            "Recall: 0.98\n",
            "Confusion matrix:\n",
            "[[38  0  0]\n",
            " [ 0 38  2]\n",
            " [ 0  0 34]]\n"
          ]
        }
      ]
    },
    {
      "cell_type": "code",
      "source": [
        "from matplotlib import pyplot as plt"
      ],
      "metadata": {
        "id": "8xLCDwYhNpHr"
      },
      "execution_count": null,
      "outputs": []
    },
    {
      "cell_type": "code",
      "source": [
        "_, ax = plt.subplots(1,2)\n",
        "\n",
        "ax[0].plot(history.history['accuracy'])\n",
        "ax[0].set_title('Model accuracy')\n",
        "ax[0].set_ylabel('Accuracy')\n",
        "ax[0].set_xlabel('Epoch')\n",
        "ax[0].legend(['Train'], loc='upper right')\n",
        "\n",
        "\n",
        "ax[1].plot(history.history['loss'])\n",
        "ax[1].set_title('Loss')\n",
        "ax[1].set_ylabel('Loss')\n",
        "ax[1].set_xlabel('Epoch')\n",
        "ax[1].legend(['Train'], loc='upper right')\n",
        "\n",
        "plt.show()"
      ],
      "metadata": {
        "colab": {
          "base_uri": "https://localhost:8080/",
          "height": 472
        },
        "id": "8oC2e_hyNtwS",
        "outputId": "2d4bc2e7-0b63-4508-9a1f-97b5c6aa954f"
      },
      "execution_count": null,
      "outputs": [
        {
          "output_type": "display_data",
          "data": {
            "text/plain": [
              "<Figure size 640x480 with 2 Axes>"
            ],
            "image/png": "[encoded data removed]"
          },
          "metadata": {}
        }
      ]
    },
    {
      "cell_type": "code",
      "source": [
        "y_result_train = model.predict(x_train)\n",
        "y_result_train = np.round(y_result_train)\n",
        "bledy = 0\n",
        "for i in range(len(y_train)):\n",
        " if not np.array_equal(y_result_train[i], y_train[i]):\n",
        "  bledy += 1\n",
        "print(\"Liczba bledow ciagu treningowego: \", bledy)"
      ],
      "metadata": {
        "colab": {
          "base_uri": "https://localhost:8080/"
        },
        "id": "NwWtzZ4H1LMN",
        "outputId": "bb14e0f3-1c70-46bf-bab8-cff0dfd80c14"
      },
      "execution_count": null,
      "outputs": [
        {
          "output_type": "stream",
          "name": "stdout",
          "text": [
            "4/4 [==============================] - 0s 4ms/step\n",
            "Liczba bledow ciagu treningowego:  3\n"
          ]
        }
      ]
    },
    {
      "cell_type": "code",
      "source": [
        "y_train[i]"
      ],
      "metadata": {
        "colab": {
          "base_uri": "https://localhost:8080/"
        },
        "id": "ZghQuezM13oc",
        "outputId": "8296627f-1e8b-47b8-b44c-b0369505c043"
      },
      "execution_count": null,
      "outputs": [
        {
          "output_type": "execute_result",
          "data": {
            "text/plain": [
              "array([0., 0., 1.], dtype=float32)"
            ]
          },
          "metadata": {},
          "execution_count": 17
        }
      ]
    }
  ]
}