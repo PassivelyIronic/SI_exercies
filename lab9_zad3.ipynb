{
  "nbformat": 4,
  "nbformat_minor": 0,
  "metadata": {
    "colab": {
      "provenance": []
    },
    "kernelspec": {
      "name": "python3",
      "display_name": "Python 3"
    },
    "language_info": {
      "name": "python"
    }
  },
  "cells": [
    {
      "cell_type": "code",
      "execution_count": null,
      "metadata": {
        "colab": {
          "base_uri": "https://localhost:8080/"
        },
        "id": "gzlTgmX1IKga",
        "outputId": "8b997955-199c-4b5e-dbce-e69f07a8e102"
      },
      "outputs": [
        {
          "output_type": "stream",
          "name": "stdout",
          "text": [
            "Collecting pygad\n",
            "  Downloading pygad-3.2.0-py3-none-any.whl (80 kB)\n",
            "\u001b[2K     \u001b[90m━━━━━━━━━━━━━━━━━━━━━━━━━━━━━━━━━━━━━━━━\u001b[0m \u001b[32m80.8/80.8 kB\u001b[0m \u001b[31m1.5 MB/s\u001b[0m eta \u001b[36m0:00:00\u001b[0m\n",
            "\u001b[?25hRequirement already satisfied: cloudpickle in /usr/local/lib/python3.10/dist-packages (from pygad) (2.2.1)\n",
            "Requirement already satisfied: matplotlib in /usr/local/lib/python3.10/dist-packages (from pygad) (3.7.1)\n",
            "Requirement already satisfied: numpy in /usr/local/lib/python3.10/dist-packages (from pygad) (1.23.5)\n",
            "Requirement already satisfied: contourpy>=1.0.1 in /usr/local/lib/python3.10/dist-packages (from matplotlib->pygad) (1.2.0)\n",
            "Requirement already satisfied: cycler>=0.10 in /usr/local/lib/python3.10/dist-packages (from matplotlib->pygad) (0.12.1)\n",
            "Requirement already satisfied: fonttools>=4.22.0 in /usr/local/lib/python3.10/dist-packages (from matplotlib->pygad) (4.47.2)\n",
            "Requirement already satisfied: kiwisolver>=1.0.1 in /usr/local/lib/python3.10/dist-packages (from matplotlib->pygad) (1.4.5)\n",
            "Requirement already satisfied: packaging>=20.0 in /usr/local/lib/python3.10/dist-packages (from matplotlib->pygad) (23.2)\n",
            "Requirement already satisfied: pillow>=6.2.0 in /usr/local/lib/python3.10/dist-packages (from matplotlib->pygad) (9.4.0)\n",
            "Requirement already satisfied: pyparsing>=2.3.1 in /usr/local/lib/python3.10/dist-packages (from matplotlib->pygad) (3.1.1)\n",
            "Requirement already satisfied: python-dateutil>=2.7 in /usr/local/lib/python3.10/dist-packages (from matplotlib->pygad) (2.8.2)\n",
            "Requirement already satisfied: six>=1.5 in /usr/local/lib/python3.10/dist-packages (from python-dateutil>=2.7->matplotlib->pygad) (1.16.0)\n",
            "Installing collected packages: pygad\n",
            "Successfully installed pygad-3.2.0\n"
          ]
        }
      ],
      "source": [
        "!pip install pygad"
      ]
    },
    {
      "cell_type": "code",
      "source": [
        "import pygad\n",
        "import numpy\n",
        "import numpy as np\n",
        "import matplotlib.pyplot as plt"
      ],
      "metadata": {
        "id": "YwYm2dAnIPKN"
      },
      "execution_count": null,
      "outputs": []
    },
    {
      "cell_type": "code",
      "source": [
        "def func_adapt(tab, A=1):\n",
        "    n = len(tab)\n",
        "    help = tab*2*np.pi\n",
        "    help = A*np.cos(help)\n",
        "    sum = ((tab*tab)-help).sum()\n",
        "    return -(A*n+sum)"
      ],
      "metadata": {
        "id": "3M6pj2lNmt_m"
      },
      "execution_count": null,
      "outputs": []
    },
    {
      "cell_type": "code",
      "source": [
        "n = 3\n",
        "x = np.linspace(-4,4,n*100)\n",
        "x = np.array_split(x,100)\n",
        "y = [func_adapt(xx) for xx in x]\n",
        "# plt.rcParams['figure.figsize'] = (6,6)\n",
        "# fig = plt.figure()\n",
        "# ax = fig.add_subplot(projection='3d')\n",
        "# surface = ax.plot_surface(x[0::3],x[1::3], x[2::3], cmap='coolwarm')\n",
        "# ax.plot(x,y)\n",
        "# plt.show()"
      ],
      "metadata": {
        "id": "Mwwb46mGIw_0"
      },
      "execution_count": null,
      "outputs": []
    },
    {
      "cell_type": "code",
      "source": [
        "def fitness_func(ga_insance, solution, solution_idx):\n",
        "  return func_adapt(solution[0:3])"
      ],
      "metadata": {
        "id": "oDU_P89pr0c6"
      },
      "execution_count": null,
      "outputs": []
    },
    {
      "cell_type": "code",
      "source": [
        "last_fitness=0\n",
        "def on_generation(ga_instance):\n",
        "  global last_fitness\n",
        "  print(f\"Generation: {ga_instance.generations_completed}\")\n",
        "  print(f\"Fitness: {ga_instance.best_solution(pop_fitness=ga_instance.last_generation_fitness)[1]}\")\n",
        "  print(f\"Change: {ga_instance.best_solution(pop_fitness=ga_instance.last_generation_fitness)[1] - last_fitness}\")\n",
        "  print()\n",
        "  last_fitness = ga_instance.best_solution(pop_fitness=ga_instance.last_generation_fitness)[1]"
      ],
      "metadata": {
        "id": "e-OZEQpJsfNF"
      },
      "execution_count": null,
      "outputs": []
    },
    {
      "cell_type": "code",
      "source": [
        "ga_instance = pygad.GA(num_generations=50,\n",
        "                       num_parents_mating=10,\n",
        "                       sol_per_pop=15,\n",
        "                       num_genes=3,\n",
        "\n",
        "                       fitness_func=fitness_func,\n",
        "                       crossover_type='single_point',\n",
        "                       parent_selection_type='rws',\n",
        "                       mutation_by_replacement=True,\n",
        "\n",
        "                       mutation_type='random',\n",
        "                       mutation_percent_genes=2,\n",
        "                       on_generation=on_generation)"
      ],
      "metadata": {
        "id": "C_PXLoI-tAP4",
        "colab": {
          "base_uri": "https://localhost:8080/"
        },
        "outputId": "79492f21-55d7-44d6-d666-9c725dee9041"
      },
      "execution_count": null,
      "outputs": [
        {
          "output_type": "stream",
          "name": "stderr",
          "text": [
            "/usr/local/lib/python3.10/dist-packages/pygad/pygad.py:748: UserWarning: The percentage of genes to mutate (mutation_percent_genes=2) resutled in selecting (0) genes. The number of genes to mutate is set to 1 (mutation_num_genes=1).\n",
            "If you do not want to mutate any gene, please set mutation_type=None.\n",
            "  warnings.warn(f\"The percentage of genes to mutate (mutation_percent_genes={mutation_percent_genes}) resutled in selecting ({mutation_num_genes}) genes. The number of genes to mutate is set to 1 (mutation_num_genes=1).\\nIf you do not want to mutate any gene, please set mutation_type=None.\")\n"
          ]
        }
      ]
    },
    {
      "cell_type": "code",
      "source": [
        "# print(ga_instance.population)"
      ],
      "metadata": {
        "id": "zW_J8G82tCbA"
      },
      "execution_count": null,
      "outputs": []
    },
    {
      "cell_type": "code",
      "source": [
        "ga_instance.run()"
      ],
      "metadata": {
        "colab": {
          "base_uri": "https://localhost:8080/"
        },
        "id": "zmW53zSCtJ4F",
        "outputId": "abd862f8-2596-4a76-d22b-6084dd824e19"
      },
      "execution_count": null,
      "outputs": [
        {
          "output_type": "stream",
          "name": "stdout",
          "text": [
            "Generation: 1\n",
            "Fitness: -5.094654681251802\n",
            "Change: -5.094654681251802\n",
            "\n",
            "Generation: 2\n",
            "Fitness: -4.461800536334012\n",
            "Change: 0.6328541449177898\n",
            "\n",
            "Generation: 3\n",
            "Fitness: -2.3251728430240535\n",
            "Change: 2.1366276933099586\n",
            "\n",
            "Generation: 4\n",
            "Fitness: -2.2591565290127296\n",
            "Change: 0.0660163140113239\n",
            "\n",
            "Generation: 5\n",
            "Fitness: -2.2591565290127296\n",
            "Change: 0.0\n",
            "\n",
            "Generation: 6\n",
            "Fitness: -2.2591565290127296\n",
            "Change: 0.0\n",
            "\n",
            "Generation: 7\n",
            "Fitness: -2.2591565290127296\n",
            "Change: 0.0\n",
            "\n",
            "Generation: 8\n",
            "Fitness: -2.2591565290127296\n",
            "Change: 0.0\n",
            "\n",
            "Generation: 9\n",
            "Fitness: -2.1363022292968203\n",
            "Change: 0.12285429971590922\n",
            "\n",
            "Generation: 10\n",
            "Fitness: -1.0744773939301866\n",
            "Change: 1.0618248353666337\n",
            "\n",
            "Generation: 11\n",
            "Fitness: -1.0744773939301866\n",
            "Change: 0.0\n",
            "\n",
            "Generation: 12\n",
            "Fitness: -1.0744773939301866\n",
            "Change: 0.0\n",
            "\n",
            "Generation: 13\n",
            "Fitness: -1.0744773939301866\n",
            "Change: 0.0\n",
            "\n",
            "Generation: 14\n",
            "Fitness: -1.0744773939301866\n",
            "Change: 0.0\n",
            "\n",
            "Generation: 15\n",
            "Fitness: -1.0744773939301866\n",
            "Change: 0.0\n",
            "\n",
            "Generation: 16\n",
            "Fitness: -0.695827982401847\n",
            "Change: 0.37864941152833964\n",
            "\n",
            "Generation: 17\n",
            "Fitness: -0.695827982401847\n",
            "Change: 0.0\n",
            "\n",
            "Generation: 18\n",
            "Fitness: -0.695827982401847\n",
            "Change: 0.0\n",
            "\n",
            "Generation: 19\n",
            "Fitness: -0.695827982401847\n",
            "Change: 0.0\n",
            "\n",
            "Generation: 20\n",
            "Fitness: -0.695827982401847\n",
            "Change: 0.0\n",
            "\n",
            "Generation: 21\n",
            "Fitness: -0.695827982401847\n",
            "Change: 0.0\n",
            "\n",
            "Generation: 22\n",
            "Fitness: -0.695827982401847\n",
            "Change: 0.0\n",
            "\n",
            "Generation: 23\n",
            "Fitness: -0.695827982401847\n",
            "Change: 0.0\n",
            "\n",
            "Generation: 24\n",
            "Fitness: -0.695827982401847\n",
            "Change: 0.0\n",
            "\n",
            "Generation: 25\n",
            "Fitness: -0.695827982401847\n",
            "Change: 0.0\n",
            "\n",
            "Generation: 26\n",
            "Fitness: -0.695827982401847\n",
            "Change: 0.0\n",
            "\n",
            "Generation: 27\n",
            "Fitness: -0.695827982401847\n",
            "Change: 0.0\n",
            "\n",
            "Generation: 28\n",
            "Fitness: -0.695827982401847\n",
            "Change: 0.0\n",
            "\n",
            "Generation: 29\n",
            "Fitness: -0.695827982401847\n",
            "Change: 0.0\n",
            "\n",
            "Generation: 30\n",
            "Fitness: -0.695827982401847\n",
            "Change: 0.0\n",
            "\n",
            "Generation: 31\n",
            "Fitness: -0.695827982401847\n",
            "Change: 0.0\n",
            "\n",
            "Generation: 32\n",
            "Fitness: -0.695827982401847\n",
            "Change: 0.0\n",
            "\n",
            "Generation: 33\n",
            "Fitness: -0.695827982401847\n",
            "Change: 0.0\n",
            "\n",
            "Generation: 34\n",
            "Fitness: -0.695827982401847\n",
            "Change: 0.0\n",
            "\n",
            "Generation: 35\n",
            "Fitness: -0.695827982401847\n",
            "Change: 0.0\n",
            "\n",
            "Generation: 36\n",
            "Fitness: -0.695827982401847\n",
            "Change: 0.0\n",
            "\n",
            "Generation: 37\n",
            "Fitness: -0.695827982401847\n",
            "Change: 0.0\n",
            "\n",
            "Generation: 38\n",
            "Fitness: -0.695827982401847\n",
            "Change: 0.0\n",
            "\n",
            "Generation: 39\n",
            "Fitness: -0.695827982401847\n",
            "Change: 0.0\n",
            "\n",
            "Generation: 40\n",
            "Fitness: -0.695827982401847\n",
            "Change: 0.0\n",
            "\n",
            "Generation: 41\n",
            "Fitness: -0.695827982401847\n",
            "Change: 0.0\n",
            "\n",
            "Generation: 42\n",
            "Fitness: -0.695827982401847\n",
            "Change: 0.0\n",
            "\n",
            "Generation: 43\n",
            "Fitness: -0.695827982401847\n",
            "Change: 0.0\n",
            "\n",
            "Generation: 44\n",
            "Fitness: -0.695827982401847\n",
            "Change: 0.0\n",
            "\n",
            "Generation: 45\n",
            "Fitness: -0.695827982401847\n",
            "Change: 0.0\n",
            "\n",
            "Generation: 46\n",
            "Fitness: -0.695827982401847\n",
            "Change: 0.0\n",
            "\n",
            "Generation: 47\n",
            "Fitness: -0.695827982401847\n",
            "Change: 0.0\n",
            "\n",
            "Generation: 48\n",
            "Fitness: -0.695827982401847\n",
            "Change: 0.0\n",
            "\n",
            "Generation: 49\n",
            "Fitness: -0.695827982401847\n",
            "Change: 0.0\n",
            "\n",
            "Generation: 50\n",
            "Fitness: -0.12316875179182585\n",
            "Change: 0.5726592306100211\n",
            "\n"
          ]
        }
      ]
    },
    {
      "cell_type": "code",
      "source": [
        "# Wypisanie najlepszych rozwiazan\n",
        "solution, solution_fitness, solution_idx = ga_instance.best_solution()\n",
        "print(f\"Parametery najlepszego rozwiązania : {solution}\")\n",
        "print(f\"Wartosc dla najlepszego rozwiazania = {solution_fitness}\")"
      ],
      "metadata": {
        "colab": {
          "base_uri": "https://localhost:8080/"
        },
        "id": "ayZxBDs_t2bg",
        "outputId": "240bf343-79d8-4906-a58e-1899ba228309"
      },
      "execution_count": null,
      "outputs": [
        {
          "output_type": "stream",
          "name": "stdout",
          "text": [
            "Parametery najlepszego rozwiązania : [-0.02442483  0.06322485  0.03744338]\n",
            "Wartosc dla najlepszego rozwiazania = -0.12316875179182585\n"
          ]
        }
      ]
    },
    {
      "cell_type": "code",
      "source": [
        "print(ga_instance.population)"
      ],
      "metadata": {
        "id": "2jPdUE92yIeX",
        "outputId": "f317aeba-95c6-4fdf-d832-81c87065161c",
        "colab": {
          "base_uri": "https://localhost:8080/"
        }
      },
      "execution_count": null,
      "outputs": [
        {
          "output_type": "stream",
          "name": "stdout",
          "text": [
            "[[-0.00372605 -0.18231157  0.06043913]\n",
            " [-0.33441576  0.30194785  3.55904986]\n",
            " [-0.33441576  0.80260493  0.53563231]\n",
            " [-0.02442483  0.30765016 -0.61515035]\n",
            " [-0.02442483  0.06322485  0.03744338]\n",
            " [ 0.51413055 -0.26924089  3.55904986]\n",
            " [ 0.51413055  0.13970178  0.65588614]\n",
            " [ 0.5213933   0.38823435  0.26669964]\n",
            " [ 0.30479905  0.38823435  3.55904986]\n",
            " [-0.18567782  0.39740246  0.39951182]\n",
            " [-0.49242362 -0.43960209  3.55904986]\n",
            " [ 0.92797839  0.28976012  3.55904986]\n",
            " [-0.33441576  0.80260493  0.05481499]\n",
            " [-0.33441576  0.3954212  -0.61515035]\n",
            " [-0.73118186  0.39740246  3.55904986]]\n"
          ]
        }
      ]
    }
  ]
}