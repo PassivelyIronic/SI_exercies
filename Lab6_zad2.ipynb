{
  "nbformat": 4,
  "nbformat_minor": 0,
  "metadata": {
    "colab": {
      "provenance": []
    },
    "kernelspec": {
      "name": "python3",
      "display_name": "Python 3"
    },
    "language_info": {
      "name": "python"
    }
  },
  "cells": [
    {
      "cell_type": "code",
      "execution_count": null,
      "metadata": {
        "colab": {
          "base_uri": "https://localhost:8080/"
        },
        "id": "4FjqYABHvJnD",
        "outputId": "dca9a32b-e46d-4664-ee32-40a57fa521ef"
      },
      "outputs": [
        {
          "output_type": "stream",
          "name": "stdout",
          "text": [
            "Requirement already satisfied: scikit-learn in /usr/local/lib/python3.10/dist-packages (1.2.2)\n",
            "Requirement already satisfied: numpy>=1.17.3 in /usr/local/lib/python3.10/dist-packages (from scikit-learn) (1.23.5)\n",
            "Requirement already satisfied: scipy>=1.3.2 in /usr/local/lib/python3.10/dist-packages (from scikit-learn) (1.11.4)\n",
            "Requirement already satisfied: joblib>=1.1.1 in /usr/local/lib/python3.10/dist-packages (from scikit-learn) (1.3.2)\n",
            "Requirement already satisfied: threadpoolctl>=2.0.0 in /usr/local/lib/python3.10/dist-packages (from scikit-learn) (3.2.0)\n"
          ]
        }
      ],
      "source": [
        "!pip install scikit-learn"
      ]
    },
    {
      "cell_type": "code",
      "source": [
        "from sklearn.model_selection import train_test_split\n",
        "from sklearn.datasets import load_iris\n",
        "import numpy as np"
      ],
      "metadata": {
        "id": "VBSxjIqcvRfq"
      },
      "execution_count": null,
      "outputs": []
    },
    {
      "cell_type": "code",
      "source": [
        "#Load data, the returnX_y argument is set to True to return data and labels\n",
        "(x, y) = load_iris(return_X_y=True)"
      ],
      "metadata": {
        "id": "JXIjfW3gvScC"
      },
      "execution_count": null,
      "outputs": []
    },
    {
      "cell_type": "markdown",
      "source": [
        "#Virginica"
      ],
      "metadata": {
        "id": "Fc_v-pXVzg7b"
      }
    },
    {
      "cell_type": "code",
      "source": [
        "#Wybrany kwiat Virginica\n",
        "y_splt = y!=2\n",
        "y[y_splt] = 0\n",
        "y[~y_splt] = 1"
      ],
      "metadata": {
        "id": "3pqdp99rvXqy"
      },
      "execution_count": null,
      "outputs": []
    },
    {
      "cell_type": "code",
      "source": [
        "x_train, x_test, y_train, y_test = train_test_split(x,y,stratify=y,\n",
        "                                                    test_size=0.2)"
      ],
      "metadata": {
        "id": "LI8Dd35qvx5X"
      },
      "execution_count": null,
      "outputs": []
    },
    {
      "cell_type": "code",
      "source": [
        "from keras.layers import Dense\n",
        "from keras.models import Sequential\n",
        "from keras.optimizers import Adam, RMSprop\n",
        "from keras.losses import BinaryCrossentropy"
      ],
      "metadata": {
        "id": "DHvDWctSv8x2"
      },
      "execution_count": null,
      "outputs": []
    },
    {
      "cell_type": "code",
      "source": [
        "model = Sequential([\n",
        "    Dense(16, input_dim=4, activation='relu'),\n",
        "    Dense(1, activation='sigmoid')\n",
        "])"
      ],
      "metadata": {
        "id": "HFegbLIdv9VR"
      },
      "execution_count": null,
      "outputs": []
    },
    {
      "cell_type": "code",
      "source": [
        "model.compile(optimizer=Adam(learning_rate=1e-1), loss=BinaryCrossentropy(),\n",
        "             metrics=['accuracy'])"
      ],
      "metadata": {
        "id": "WJ29QQuowDAD"
      },
      "execution_count": null,
      "outputs": []
    },
    {
      "cell_type": "code",
      "source": [
        "history = model.fit(x_train, y_train, epochs=4, batch_size=8, verbose=1)"
      ],
      "metadata": {
        "colab": {
          "base_uri": "https://localhost:8080/"
        },
        "id": "Kg2F8sb7wFHB",
        "outputId": "0d54b07f-90f4-4248-8293-98c9836fc810"
      },
      "execution_count": null,
      "outputs": [
        {
          "output_type": "stream",
          "name": "stdout",
          "text": [
            "Epoch 1/4\n",
            "15/15 [==============================] - 1s 2ms/step - loss: 0.8670 - accuracy: 0.6917\n",
            "Epoch 2/4\n",
            "15/15 [==============================] - 0s 2ms/step - loss: 0.3691 - accuracy: 0.8083\n",
            "Epoch 3/4\n",
            "15/15 [==============================] - 0s 3ms/step - loss: 0.2552 - accuracy: 0.8750\n",
            "Epoch 4/4\n",
            "15/15 [==============================] - 0s 2ms/step - loss: 0.1919 - accuracy: 0.9167\n"
          ]
        }
      ]
    },
    {
      "cell_type": "code",
      "source": [
        "model.evaluate(x_test, y_test)"
      ],
      "metadata": {
        "colab": {
          "base_uri": "https://localhost:8080/"
        },
        "id": "-f_viFL6yCNY",
        "outputId": "3eee29ef-54cf-499c-af97-68c6eb795a90"
      },
      "execution_count": null,
      "outputs": [
        {
          "output_type": "stream",
          "name": "stdout",
          "text": [
            "1/1 [==============================] - 0s 197ms/step - loss: 0.2432 - accuracy: 0.9000\n"
          ]
        },
        {
          "output_type": "execute_result",
          "data": {
            "text/plain": [
              "[0.24322152137756348, 0.8999999761581421]"
            ]
          },
          "metadata": {},
          "execution_count": 10
        }
      ]
    },
    {
      "cell_type": "code",
      "source": [
        "from matplotlib import pyplot as plt"
      ],
      "metadata": {
        "id": "8eZOwC-vxwbY"
      },
      "execution_count": null,
      "outputs": []
    },
    {
      "cell_type": "code",
      "source": [
        "plt.plot(history.history['accuracy'])\n",
        "plt.title('Model accuracy')\n",
        "plt.ylabel('Accuracy')\n",
        "plt.xlabel('Epoch')\n",
        "plt.legend(['Train'], loc='upper right')\n",
        "plt.show()"
      ],
      "metadata": {
        "colab": {
          "base_uri": "https://localhost:8080/",
          "height": 472
        },
        "id": "S_CUyl-wxxDP",
        "outputId": "5510ff04-0543-4e26-a142-70b12cdfdff3"
      },
      "execution_count": null,
      "outputs": [
        {
          "output_type": "display_data",
          "data": {
            "text/plain": [
              "<Figure size 640x480 with 1 Axes>"
            ],
            "image/png": "[encoded data removed]"
          },
          "metadata": {}
        }
      ]
    },
    {
      "cell_type": "code",
      "source": [
        "plt.plot(history.history['loss'])\n",
        "plt.title('Model loss')\n",
        "plt.ylabel('Loss')\n",
        "plt.xlabel('Epoch')\n",
        "plt.legend(['Train'], loc='upper right')\n",
        "plt.show()"
      ],
      "metadata": {
        "colab": {
          "base_uri": "https://localhost:8080/",
          "height": 472
        },
        "id": "N2oEr6OzygqJ",
        "outputId": "c798f0f0-8dd9-459c-a354-12c80a267360"
      },
      "execution_count": null,
      "outputs": [
        {
          "output_type": "display_data",
          "data": {
            "text/plain": [
              "<Figure size 640x480 with 1 Axes>"
            ],
            "image/png": "[encoded data removed]"
          },
          "metadata": {}
        }
      ]
    },
    {
      "cell_type": "code",
      "source": [
        "from sklearn.metrics import accuracy_score, precision_score, recall_score, confusion_matrix"
      ],
      "metadata": {
        "id": "aoT6Toy7zv2I"
      },
      "execution_count": null,
      "outputs": []
    },
    {
      "cell_type": "code",
      "source": [
        "# Przewidywanie wyników\n",
        "y_pred = model.predict(x_train)\n",
        "# Zaokrąglenie wyników przewidywań\n",
        "y_pred_rounded = [np.round(pred) for pred in y_pred]\n",
        "# Obliczenie metryk\n",
        "accuracy = accuracy_score(y_train, y_pred_rounded)\n",
        "precision = precision_score(y_train, y_pred_rounded)\n",
        "recall = recall_score(y_train, y_pred_rounded)\n",
        "# Uzyskanie macierzy pomyłek\n",
        "conf_matrix = confusion_matrix(y_train, y_pred_rounded)"
      ],
      "metadata": {
        "colab": {
          "base_uri": "https://localhost:8080/"
        },
        "id": "Nv8oH_cz0v7D",
        "outputId": "b64557ee-d4d8-42ad-c6a0-915243b702e3"
      },
      "execution_count": null,
      "outputs": [
        {
          "output_type": "stream",
          "name": "stdout",
          "text": [
            "4/4 [==============================] - 0s 4ms/step\n"
          ]
        }
      ]
    },
    {
      "cell_type": "code",
      "source": [
        "# Wyświetlanie wyników\n",
        "print(\"Accuracy:\", accuracy)\n",
        "print(\"Precision:\", precision)\n",
        "print(\"Recall:\", precision)\n",
        "print(\"Confusion Matrix:\\n\", conf_matrix)"
      ],
      "metadata": {
        "colab": {
          "base_uri": "https://localhost:8080/"
        },
        "id": "tsr45bFy04X_",
        "outputId": "eabf6472-227f-4a1d-836e-24dc1f6b3f64"
      },
      "execution_count": null,
      "outputs": [
        {
          "output_type": "stream",
          "name": "stdout",
          "text": [
            "Accuracy: 0.8833333333333333\n",
            "Precision: 0.7407407407407407\n",
            "Recall: 0.7407407407407407\n",
            "Confusion Matrix:\n",
            " [[66 14]\n",
            " [ 0 40]]\n"
          ]
        }
      ]
    },
    {
      "cell_type": "code",
      "source": [
        "y_result_train = model.predict(x_train)\n",
        "y_result_train = np.round(y_result_train)\n",
        "bledy = 0\n",
        "for i in range(len(y_train)):\n",
        " if y_result_train[i] != y_train[i]:\n",
        "  bledy += 1\n",
        "print(\"Liczba bledow ciagu treningowego: \", bledy)"
      ],
      "metadata": {
        "colab": {
          "base_uri": "https://localhost:8080/"
        },
        "id": "XAnqDjvh0a2J",
        "outputId": "7e47e263-1f78-4454-838f-a425459fc999"
      },
      "execution_count": null,
      "outputs": [
        {
          "output_type": "stream",
          "name": "stdout",
          "text": [
            "4/4 [==============================] - 0s 3ms/step\n",
            "Liczba bledow ciagu treningowego:  14\n"
          ]
        }
      ]
    },
    {
      "cell_type": "markdown",
      "source": [
        "#Setosa"
      ],
      "metadata": {
        "id": "rB_6LdIX074U"
      }
    },
    {
      "cell_type": "code",
      "source": [
        "#Load data, the returnX_y argument is set to True to return data and labels\n",
        "(x, y) = load_iris(return_X_y=True)\n",
        "\n",
        "#Wybrany kwiat Setosa\n",
        "y_splt = y!=0\n",
        "y[y_splt] = 0\n",
        "y[~y_splt] = 1"
      ],
      "metadata": {
        "id": "-fjPcATz1JSm"
      },
      "execution_count": null,
      "outputs": []
    },
    {
      "cell_type": "code",
      "source": [
        "print(y_train)"
      ],
      "metadata": {
        "colab": {
          "base_uri": "https://localhost:8080/"
        },
        "id": "X-s-q2th1RcG",
        "outputId": "637a3f2b-d295-41a4-e6b2-2bc705d8a224"
      },
      "execution_count": null,
      "outputs": [
        {
          "output_type": "stream",
          "name": "stdout",
          "text": [
            "[0 0 0 0 1 0 0 0 0 0 0 0 0 1 0 0 1 0 0 0 0 0 0 0 1 0 0 0 1 0 0 0 0 0 1 0 1\n",
            " 0 0 0 1 0 0 1 0 0 0 1 0 0 1 0 1 0 1 1 0 0 0 0 0 0 1 1 1 0 1 0 0 0 1 1 1 0\n",
            " 1 0 0 0 0 0 1 1 0 0 0 1 1 0 1 1 1 0 0 0 0 0 0 1 0 0 0 0 1 0 0 1 1 0 1 0 1\n",
            " 0 1 0 1 1 0 1 1 0]\n"
          ]
        }
      ]
    },
    {
      "cell_type": "code",
      "source": [
        "x_train, x_test, y_train, y_test = train_test_split(x,y,stratify=y,\n",
        "                                                    test_size=0.2)"
      ],
      "metadata": {
        "id": "WaX6yyzK1iHM"
      },
      "execution_count": null,
      "outputs": []
    },
    {
      "cell_type": "code",
      "source": [
        "#Najmniejszy model potrafiacy rozwiazac zadanie,\n",
        "#jednak nie zawsze jest w stanie sie nauczyc.\n",
        "model = Sequential([\n",
        "    Dense(4, input_dim=4, activation='relu'),\n",
        "    Dense(1, activation='sigmoid')\n",
        "])"
      ],
      "metadata": {
        "id": "QEgK98-M1m-m"
      },
      "execution_count": null,
      "outputs": []
    },
    {
      "cell_type": "code",
      "source": [
        "model.compile(optimizer = Adam(learning_rate=1e-2),\n",
        "              loss=BinaryCrossentropy(),\n",
        "              metrics=['accuracy'])"
      ],
      "metadata": {
        "id": "T4vUST8915cD"
      },
      "execution_count": null,
      "outputs": []
    },
    {
      "cell_type": "code",
      "source": [
        "history = model.fit(x_train, y_train, epochs=4 ,batch_size=4, verbose=1)"
      ],
      "metadata": {
        "colab": {
          "base_uri": "https://localhost:8080/"
        },
        "id": "1U9ciUjo2GPn",
        "outputId": "11aa97ec-405c-4266-babf-2c022b86a7c4"
      },
      "execution_count": null,
      "outputs": [
        {
          "output_type": "stream",
          "name": "stdout",
          "text": [
            "Epoch 1/4\n",
            "30/30 [==============================] - 1s 2ms/step - loss: 0.5436 - accuracy: 0.6667\n",
            "Epoch 2/4\n",
            "30/30 [==============================] - 0s 2ms/step - loss: 0.4406 - accuracy: 0.6667\n",
            "Epoch 3/4\n",
            "30/30 [==============================] - 0s 2ms/step - loss: 0.3119 - accuracy: 0.8667\n",
            "Epoch 4/4\n",
            "30/30 [==============================] - 0s 2ms/step - loss: 0.2227 - accuracy: 0.9917\n"
          ]
        }
      ]
    },
    {
      "cell_type": "code",
      "source": [
        "model.evaluate(x_test, y_test, batch_size=4)"
      ],
      "metadata": {
        "colab": {
          "base_uri": "https://localhost:8080/"
        },
        "id": "dffyYUuI2xkV",
        "outputId": "5f6bf10b-d876-41b4-c76c-d80d572bb9a7"
      },
      "execution_count": null,
      "outputs": [
        {
          "output_type": "stream",
          "name": "stdout",
          "text": [
            "8/8 [==============================] - 0s 3ms/step - loss: 0.1912 - accuracy: 1.0000\n"
          ]
        },
        {
          "output_type": "execute_result",
          "data": {
            "text/plain": [
              "[0.1912446767091751, 1.0]"
            ]
          },
          "metadata": {},
          "execution_count": 24
        }
      ]
    },
    {
      "cell_type": "code",
      "source": [
        "# Przewidywanie wyników\n",
        "y_pred = model.predict(x_train)\n",
        "# Zaokrąglenie wyników przewidywań\n",
        "y_pred_rounded = [np.round(pred) for pred in y_pred]\n",
        "# Obliczenie metryk\n",
        "accuracy = accuracy_score(y_train, y_pred_rounded)\n",
        "precision = precision_score(y_train, y_pred_rounded)\n",
        "recall = recall_score(y_train, y_pred_rounded)\n",
        "# Uzyskanie macierzy pomyłek\n",
        "conf_matrix = confusion_matrix(y_train, y_pred_rounded)"
      ],
      "metadata": {
        "colab": {
          "base_uri": "https://localhost:8080/"
        },
        "id": "7AHExQ6i4Cik",
        "outputId": "22b31f6e-a3cd-4d83-da76-e650aa2bc05d"
      },
      "execution_count": null,
      "outputs": [
        {
          "output_type": "stream",
          "name": "stdout",
          "text": [
            "4/4 [==============================] - 0s 3ms/step\n"
          ]
        }
      ]
    },
    {
      "cell_type": "code",
      "source": [
        "# Wyświetlanie wyników\n",
        "print(\"Accuracy:\", accuracy)\n",
        "print(\"Precision:\", precision)\n",
        "print(\"Recall:\", precision)\n",
        "print(\"Confusion Matrix:\\n\", conf_matrix)"
      ],
      "metadata": {
        "colab": {
          "base_uri": "https://localhost:8080/"
        },
        "id": "aR13SZyw4FOb",
        "outputId": "85f7a5fd-2d45-44ce-a66d-fb2a0bd3b662"
      },
      "execution_count": null,
      "outputs": [
        {
          "output_type": "stream",
          "name": "stdout",
          "text": [
            "Accuracy: 1.0\n",
            "Precision: 1.0\n",
            "Recall: 1.0\n",
            "Confusion Matrix:\n",
            " [[80  0]\n",
            " [ 0 40]]\n"
          ]
        }
      ]
    },
    {
      "cell_type": "code",
      "source": [
        "y_result_train = model.predict(x_train)\n",
        "y_result_train = np.round(y_result_train)\n",
        "bledy = 0\n",
        "for i in range(len(y_train)):\n",
        " if y_result_train[i] != y_train[i]:\n",
        "  bledy += 1\n",
        "print(\"Liczba bledow ciagu treningowego: \", bledy)"
      ],
      "metadata": {
        "colab": {
          "base_uri": "https://localhost:8080/"
        },
        "id": "zbZu1Bbh08Lp",
        "outputId": "37644bbf-a77b-4294-f389-a01b39886a70"
      },
      "execution_count": null,
      "outputs": [
        {
          "output_type": "stream",
          "name": "stdout",
          "text": [
            "4/4 [==============================] - 0s 3ms/step\n",
            "Liczba bledow ciagu treningowego:  0\n"
          ]
        }
      ]
    }
  ]
}