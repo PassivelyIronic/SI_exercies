{
  "nbformat": 4,
  "nbformat_minor": 0,
  "metadata": {
    "colab": {
      "provenance": []
    },
    "kernelspec": {
      "name": "python3",
      "display_name": "Python 3"
    },
    "language_info": {
      "name": "python"
    }
  },
  "cells": [
    {
      "cell_type": "code",
      "execution_count": 1,
      "metadata": {
        "id": "_EVdkTc9sU7Z"
      },
      "outputs": [],
      "source": [
        "import random\n",
        "import math\n",
        "import numpy as np\n",
        "\n",
        "from matplotlib import pyplot as plt\n",
        "\n",
        "L = 2 #liczba wartw\n",
        "mi = 0.1 #wsp uczenia\n",
        "\n",
        "N = [2,2,1] #neurony w warstwach\n",
        "\n",
        "w = [\n",
        "     [],\n",
        "    [ [], [0,0,0], [0,0,0]],\n",
        "    [ [], [0,0,0]]\n",
        "  ]\n",
        "\n",
        "s = [\n",
        "     [],\n",
        "     [None, 0,0],\n",
        "     [None, 0]\n",
        "   ]\n",
        "\n",
        "x = [\n",
        "     [],\n",
        "     [-1, 0, 0],\n",
        "     [-1, 0, 0]\n",
        "    ]\n",
        "\n",
        "y = [\n",
        "     [],\n",
        "     [None, 0,0],\n",
        "     [None,0]\n",
        "   ]\n",
        "\n",
        "e = [\n",
        "        [],\n",
        "        [None, 0,0],\n",
        "        [None,0]\n",
        "   ]\n",
        "\n",
        "dlt = [\n",
        "        [],\n",
        "        [None, 0,0],\n",
        "        [None, 0]\n",
        "    ]"
      ]
    },
    {
      "cell_type": "code",
      "source": [
        "def losuj_w():\n",
        "    for k in range(1, 1+L):\n",
        "        for i in range(1, N[k]+1):\n",
        "            for j in range(0, N[k-1]+1):\n",
        "                w[k][i][j] = random.random()*2-1\n",
        "\n",
        "def f(s): #simgoidalna aktywacja\n",
        "    return 1/(1+math.exp(-s))\n",
        "\n",
        "def f_poch(s):\n",
        "    return f(s)*(1-f(s))\n",
        "\n",
        "def licz_y(u):\n",
        "    for k in range(1,L+1):\n",
        "        for i in range(1, N[k-1]+1):\n",
        "            if k ==1: x[k][i] = u[i-1]\n",
        "            else:  x[k][i] = y[k-1][i]\n",
        "\n",
        "        for i in range(1, N[k]+1):\n",
        "            s[k][i]=0\n",
        "            for j in range(0, N[k-1]+1):\n",
        "                s[k][i]+= w[k][i][j]*x[k][j]\n",
        "            y[k][i] = f(s[k][i])\n",
        "    return y[L][1]\n",
        "\n",
        "\n",
        "def licz_e(d):\n",
        "    for k in range(L,0, -1):\n",
        "        for i in range(1, N[k]+1):\n",
        "            if k == L:\n",
        "                e[k][i] = d - y[k][i]\n",
        "            else:\n",
        "                e[k][i]=0\n",
        "                for j in range(1, N[k+1]+1):\n",
        "                    e[k][i]+=dlt[k+1][j]*w[k+1][j][i]\n",
        "            dlt[k][i] = e[k][i]* f_poch(s[k][i])"
      ],
      "metadata": {
        "id": "zNXS0rr8s7Qm"
      },
      "execution_count": null,
      "outputs": []
    },
    {
      "cell_type": "code",
      "source": [
        "u = [[0,0], [0,1], [1,0], [1,1] ]\n",
        "\n",
        "d = [0,1,1,0]\n",
        "\n",
        "def predict(u):\n",
        "    return licz_y(u)\n",
        "\n",
        "def mse(): #blad sredniokwadratowy\n",
        "    suma = 0\n",
        "    for i in range(len(d)):\n",
        "        pred = predict(u[i])\n",
        "        suma += (d[i]- pred)**2\n",
        "    return suma/(len(d))\n",
        "\n",
        "def showPredict():\n",
        "    for i in range(len(d)):\n",
        "        pred = predict(u[i])\n",
        "        print(f'input {u[i][0], u[i][1]}: {pred}')"
      ],
      "metadata": {
        "id": "qoOzn0LEtDct"
      },
      "execution_count": null,
      "outputs": []
    },
    {
      "cell_type": "code",
      "source": [
        "def main(epochs = 20000):\n",
        "    losuj_w()\n",
        "    curr_ep = 0\n",
        "    for epoch in range(epochs):\n",
        "        for nn in range(len(u)):\n",
        "            licz_y(u[nn])\n",
        "            licz_e(d[nn])\n",
        "\n",
        "            for k in range(L, 0, -1):\n",
        "                for i in range(1, N[k]+1):\n",
        "                    for j in range(0, N[k-1]+1):\n",
        "                        w[k][i][j] = w[k][i][j] + 2* mi *dlt[k][i] * x[k][j]\n",
        "\n",
        "        if mse() < 1e-2: break\n",
        "        curr_ep+=1\n",
        "    print(f\"Training ended after {curr_ep} epochs.\\n The weights: {w} \\nBlad: {mse()}\")\n",
        "\n",
        "def show_chart():\n",
        "    points = np.linspace((-1,-1), (1.5,1.5))\n",
        "    yy = -(w[1][1][1]/w[1][1][2]) * points[:,0] + (w[1][1][0]/w[1][1][2])\n",
        "    yy1 = -(w[1][2][1]/w[1][2][2]) * points[:,0] + (w[1][2][0]/w[1][2][2])\n",
        "    plt.plot(points[:,0],yy, color='magenta')\n",
        "    plt.plot(points[:,0],yy1, color='blue')\n",
        "\n",
        "    for i in range(len(u)):\n",
        "        color = 'red'\n",
        "        if d[i]==1:\n",
        "            color = 'green'\n",
        "        plt.plot(u[i][0], u[i][1], 'o', color=color)\n",
        "\n",
        "    plt.xlim([-1,1.5])\n",
        "    plt.ylim([-1,1.5])\n",
        "    plt.show()\n",
        "\n",
        "main()\n",
        "show_chart()\n",
        "showPredict()"
      ],
      "metadata": {
        "colab": {
          "base_uri": "https://localhost:8080/",
          "height": 557
        },
        "id": "Ye5BPk29tK7G",
        "outputId": "5faffddb-1f71-4013-acb4-185e16927a8b"
      },
      "execution_count": null,
      "outputs": [
        {
          "output_type": "stream",
          "name": "stdout",
          "text": [
            "Training ended after 3427 epochs.\n",
            " The weights: [[], [[], [-1.8942721548433301, -5.487408685972307, -5.578676987586923], [-4.857782280434658, -3.35445593057697, -3.3620090626437142]], [[], [2.794715798510897, -6.935001207691177, 6.396335527031237]]] \n",
            "Blad: 0.00999301086403417\n"
          ]
        },
        {
          "output_type": "display_data",
          "data": {
            "text/plain": [
              "<Figure size 640x480 with 1 Axes>"
            ],
            "image/png": "[encoded data removed]"
          },
          "metadata": {}
        },
        {
          "output_type": "stream",
          "name": "stdout",
          "text": [
            "input (0, 0): 0.07756679700166487\n",
            "input (0, 1): 0.9055815465099183\n",
            "input (1, 0): 0.9048442953336239\n",
            "input (1, 1): 0.12643568708646258\n"
          ]
        }
      ]
    }
  ]
}